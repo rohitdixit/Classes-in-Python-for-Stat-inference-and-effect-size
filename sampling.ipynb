{
 "cells": [
  {
   "cell_type": "markdown",
   "metadata": {},
   "source": [
    "Random Sampling\n",
    "=============\n",
    "\n",
    "## *Sample mean*  | *Standard error*  | *CLT* | *Class* | *Inheritance*\n",
    "\n",
    "Copyright 2016 Allen Downey\n",
    "\n",
    "License: [Creative Commons Attribution 4.0 International](http://creativecommons.org/licenses/by/4.0/)"
   ]
  },
  {
   "cell_type": "code",
   "execution_count": 1,
   "metadata": {},
   "outputs": [],
   "source": [
    "from __future__ import print_function, division\n",
    "\n",
    "import numpy\n",
    "import scipy.stats\n",
    "\n",
    "import matplotlib.pyplot as pyplot\n",
    "\n",
    "from ipywidgets import interact, interactive, fixed\n",
    "import ipywidgets as widgets\n",
    "\n",
    "# seed the random number generator so we all get the same results\n",
    "numpy.random.seed(18)\n",
    "\n",
    "# some nicer colors from http://colorbrewer2.org/\n",
    "COLOR1 = '#7fc97f'\n",
    "COLOR2 = '#beaed4'\n",
    "COLOR3 = '#fdc086'\n",
    "COLOR4 = '#ffff99'\n",
    "COLOR5 = '#386cb0'\n",
    "\n",
    "%matplotlib inline"
   ]
  },
  {
   "cell_type": "markdown",
   "metadata": {},
   "source": [
    "Part One\n",
    "========\n",
    "\n",
    "Suppose we want to estimate the average weight of men and women in the U.S.\n",
    "\n",
    "And we want to quantify the uncertainty of the estimate.\n",
    "\n",
    "One approach is to simulate many experiments and see how much the results vary from one experiment to the next.\n",
    "\n",
    "I'll start with the unrealistic assumption that we know the actual distribution of weights in the population.  Then I'll show how to solve the problem without that assumption.\n",
    "\n",
    "Based on data from the [BRFSS](http://www.cdc.gov/brfss/), I found that the distribution of weight in kg for women in the U.S. is well modeled by a lognormal distribution with the following parameters:"
   ]
  },
  {
   "cell_type": "code",
   "execution_count": 2,
   "metadata": {},
   "outputs": [
    {
     "data": {
      "text/plain": [
       "(72.697645732966876, 16.944043048498038)"
      ]
     },
     "execution_count": 2,
     "metadata": {},
     "output_type": "execute_result"
    }
   ],
   "source": [
    "### rvs(s, loc=0, scale=1, size=1, random_state=None)... s = std, loc=?, scale = mu or mean\n",
    "weight = scipy.stats.lognorm(0.23, 0, 70.8)\n",
    "weight.mean(), weight.std()"
   ]
  },
  {
   "cell_type": "code",
   "execution_count": 4,
   "metadata": {},
   "outputs": [
    {
     "data": {
      "text/plain": [
       "140.466"
      ]
     },
     "execution_count": 4,
     "metadata": {},
     "output_type": "execute_result"
    }
   ],
   "source": [
    "72.69-4*16.944\n",
    "72.69+4*16.944"
   ]
  },
  {
   "cell_type": "markdown",
   "metadata": {},
   "source": [
    "Here's what that distribution looks like:"
   ]
  },
  {
   "cell_type": "code",
   "execution_count": 7,
   "metadata": {},
   "outputs": [
    {
     "data": {
      "image/png": "[encoded data removed]",
      "text/plain": [
       "<matplotlib.figure.Figure at 0x106ae23c8>"
      ]
     },
     "metadata": {},
     "output_type": "display_data"
    }
   ],
   "source": [
    "#xs1 = numpy.linspace(72.69-4*16.944, 72.69+4*16.944, 100)\n",
    "xs = numpy.linspace(20, 160, 100)\n",
    "ys = weight.pdf(xs)\n",
    "\n",
    "pyplot.plot(xs, ys, linewidth=4, color=COLOR1)\n",
    "pyplot.xlabel('weight (kg)')\n",
    "pyplot.ylabel('PDF')\n",
    "None"
   ]
  },
  {
   "cell_type": "markdown",
   "metadata": {},
   "source": [
    "`make_sample` draws a random sample from this distribution.  The result is a NumPy array."
   ]
  },
  {
   "cell_type": "code",
   "execution_count": 15,
   "metadata": {},
   "outputs": [],
   "source": [
    "def make_sample(n=100):\n",
    "    sample = weight.rvs(n)\n",
    "    return sample"
   ]
  },
  {
   "cell_type": "markdown",
   "metadata": {},
   "source": [
    "Here's an example with `n=100`.  The mean and std of the sample are close to the mean and std of the population, but not exact."
   ]
  },
  {
   "cell_type": "code",
   "execution_count": 16,
   "metadata": {},
   "outputs": [
    {
     "data": {
      "text/plain": [
       "(72.598533436880757, 19.994458600775435)"
      ]
     },
     "execution_count": 16,
     "metadata": {},
     "output_type": "execute_result"
    }
   ],
   "source": [
    "sample = make_sample(n=100)\n",
    "sample.mean(), sample.std()"
   ]
  },
  {
   "cell_type": "code",
   "execution_count": 17,
   "metadata": {},
   "outputs": [
    {
     "data": {
      "text/plain": [
       "array([  50.24970352,   57.72082264,   78.09129916,   55.43404966,\n",
       "         69.06517402,   45.97048038,   83.08523399,   56.70088077,\n",
       "         55.43298558,   57.76647917,   81.747621  ,   78.8961367 ,\n",
       "         52.58933599,   78.41419976,   69.89336459,   60.12127542,\n",
       "         63.30539851,   72.424939  ,   62.06221259,   64.024518  ,\n",
       "         62.37278793,   71.07768849,   94.14961117,   70.43270582,\n",
       "         67.94856059,   68.77128402,   88.87637065,   62.26867137,\n",
       "         51.49187994,   52.96674461,   80.14943528,   93.88620922,\n",
       "         47.72773842,   65.56651548,   84.11527178,   91.93453369,\n",
       "         34.58965004,   65.51431562,   82.20845216,   45.93024089,\n",
       "        175.52517313,   56.70830827,   93.44641789,   75.53588494,\n",
       "         83.19854272,  123.50034345,   66.83312385,   74.97523191,\n",
       "         81.10257363,   80.76442443,   82.38915396,   92.03436868,\n",
       "         69.41219277,   65.79697338,   46.1476299 ,  103.05239482,\n",
       "         81.18014467,   52.46369161,  108.57783349,  101.21607784,\n",
       "         47.41919577,   87.09573173,   61.95254228,   56.56982738,\n",
       "         46.71630057,   85.35580585,   48.94769388,   91.35571069,\n",
       "         69.11092697,  104.54020924,   55.35101977,   71.60725182,\n",
       "         79.57612633,   98.03123572,   81.74361975,   71.07258519,\n",
       "         59.03686707,   55.94708136,   59.21494814,   72.29885329,\n",
       "         80.39208331,   94.73659835,   51.2618734 ,   56.8911957 ,\n",
       "         71.48753629,   67.31808303,   57.89626655,  103.16480661,\n",
       "         70.01484991,   65.21999467,   70.99116582,  112.32682176,\n",
       "         90.47742673,   66.9180905 ,   66.13242275,   95.80681891,\n",
       "         60.55769479,   47.18445969,   62.67344931,   76.62290981])"
      ]
     },
     "execution_count": 17,
     "metadata": {},
     "output_type": "execute_result"
    }
   ],
   "source": [
    "sample"
   ]
  },
  {
   "cell_type": "code",
   "execution_count": 21,
   "metadata": {},
   "outputs": [
    {
     "data": {
      "text/plain": [
       "array([ 71.19504425,  71.8256916 ,  71.2694367 ,  73.46514323,\n",
       "        72.44799977,  71.48578733,  74.74105024,  74.6133219 ,\n",
       "        70.35350972,  67.77059063,  73.35582143,  72.27039557,\n",
       "        73.09032846,  70.43640764,  73.85518475,  74.36070264,\n",
       "        74.44497957,  72.70013932,  72.34591149,  76.14183763,\n",
       "        74.7584448 ,  70.88445923,  72.82417259,  72.14685202,\n",
       "        76.61658516,  71.28137032,  71.70621823,  68.75862461,\n",
       "        67.32427017,  73.26388149,  73.13926316,  72.83381017,\n",
       "        71.585441  ,  72.43029117,  74.84449025,  75.05001079,\n",
       "        73.4333027 ,  70.24198375,  70.88077361,  71.98341929,\n",
       "        74.62963869,  71.45390632,  71.47802986,  72.14360452,\n",
       "        70.60473144,  73.72445186,  73.03708902,  72.36704115,\n",
       "        74.43174587,  70.58821777,  68.77025466,  75.20865251,\n",
       "        73.23072393,  74.46190979,  74.27043205,  74.1352202 ,\n",
       "        69.16667696,  71.76837323,  71.22525139,  69.43972305,\n",
       "        71.90738058,  75.40071283,  76.53405845,  74.42510691,\n",
       "        72.18048728,  73.0299599 ,  71.7417646 ,  70.42462068,\n",
       "        74.19666347,  76.23281472,  74.63592413,  71.07652233,\n",
       "        70.58685686,  71.54095625,  72.03634367,  71.19803834,\n",
       "        71.71913865,  71.48437903,  70.99650743,  72.07749326,\n",
       "        72.41472716,  71.12199577,  76.59026159,  77.40772649,\n",
       "        71.67499469,  73.85858494,  72.81628232,  72.22498175,\n",
       "        71.53877666,  70.24194324,  73.50546152,  72.94590916,\n",
       "        72.97028723,  73.43148418,  72.27631989,  74.22440214,\n",
       "        72.48108263,  76.04162355,  76.23748652,  71.60269114,\n",
       "        71.5215563 ,  70.01512291,  74.55409339,  73.71558524,\n",
       "        75.52389974,  71.12144434,  74.92563968,  71.26513956,\n",
       "        70.84395782,  74.34315778,  76.062748  ,  74.23965258,\n",
       "        73.72383437,  73.18123401,  73.51337477,  75.60089412,\n",
       "        73.05809191,  72.19422481,  73.80384729,  74.16190386,\n",
       "        71.41524504,  71.29371994,  75.28152907,  72.51135288,\n",
       "        72.6891061 ,  71.94815077,  71.63646496,  72.41325285,\n",
       "        69.09379175,  73.63104681,  73.35620142,  73.56297045,\n",
       "        73.86790609,  73.12111818,  72.31607151,  71.56920219,\n",
       "        72.95732393,  74.75770683,  70.11294199,  72.16207123,\n",
       "        70.68138499,  70.93592753,  71.74996398,  69.64696393,\n",
       "        75.36121175,  72.04050023,  72.04858529,  69.94333616,\n",
       "        75.8885364 ,  69.91102835,  71.25104552,  71.37386866,\n",
       "        74.43075586,  72.23201458,  73.35842676,  70.42232075,\n",
       "        71.92830537,  70.79251449,  70.17971682,  71.5228571 ,\n",
       "        72.07654077,  71.32455303,  74.68956188,  73.32210436,\n",
       "        74.95788872,  73.8774523 ,  70.99882503,  73.6254035 ,\n",
       "        72.07256166,  73.25256972,  71.75700783,  72.19248394,\n",
       "        73.86818273,  69.87475138,  71.34838315,  72.39680909,\n",
       "        75.30418137,  68.85383507,  74.85791229,  74.56115232,\n",
       "        74.53769592,  73.39630763,  71.33872236,  72.56677327,\n",
       "        73.61602655,  73.41471275,  71.92823315,  72.94074158,\n",
       "        72.20966799,  73.6877175 ,  69.57844436,  70.36095431,\n",
       "        71.77632308,  74.71246179,  71.5604132 ,  73.24483173,\n",
       "        73.75794556,  74.54203879,  72.16144291,  73.08881665,\n",
       "        70.89842412,  73.62108944,  71.40241642,  74.90464829,\n",
       "        70.9013598 ,  70.821344  ,  72.10990418,  73.56108955,\n",
       "        73.36662068,  72.8533626 ,  75.45113738,  69.58096186,\n",
       "        74.17763531,  71.74897147,  71.14341949,  74.92886857,\n",
       "        69.64226803,  73.54036807,  71.08475432,  73.19210401,\n",
       "        73.4295355 ,  71.06919004,  72.73524469,  73.38433312,\n",
       "        74.97522885,  73.38329689,  73.39683324,  74.71098933,\n",
       "        70.77845002,  74.33984477,  74.75304002,  76.81058568,\n",
       "        72.6620206 ,  71.87337868,  73.45033674,  70.05459431,\n",
       "        75.66205885,  73.95657492,  71.15176355,  71.56768405,\n",
       "        71.31285064,  69.05804413,  72.8351139 ,  71.16040575,\n",
       "        73.76147039,  70.11529692,  72.41946196,  74.08694259,\n",
       "        71.29340718,  71.98958993,  71.49043882,  73.1387669 ,\n",
       "        72.27149981,  73.8126938 ,  70.78521713,  75.63663766,\n",
       "        74.82218074,  73.95038777,  73.19567424,  71.4087209 ,\n",
       "        74.68199434,  70.46609455,  73.17657222,  74.98316517,\n",
       "        75.88315085,  73.69597393,  72.09235176,  72.56921976,\n",
       "        71.86214423,  73.13612864,  73.71842302,  76.76510262,\n",
       "        70.84952187,  70.00985166,  71.11226734,  73.69337171,\n",
       "        70.97422044,  72.33473802,  74.57425642,  73.93519511,\n",
       "        71.29563738,  71.76010481,  72.09854849,  76.53492399,\n",
       "        71.80764349,  73.29846552,  71.26373321,  74.57274981,\n",
       "        73.55385694,  73.18366614,  74.65827813,  75.55378478,\n",
       "        74.03186499,  72.47929691,  75.18679054,  71.24899045,\n",
       "        73.11451764,  70.59176644,  72.24609307,  72.14912805,\n",
       "        71.614964  ,  73.66635078,  69.89773979,  71.89531922,\n",
       "        70.72925807,  70.27928478,  73.50969977,  72.82893033,\n",
       "        71.70095516,  73.38067432,  72.98982756,  71.5815686 ,\n",
       "        75.86432553,  71.89261635,  73.62313721,  74.90452072,\n",
       "        76.15294091,  71.78196735,  73.57268784,  71.89712681,\n",
       "        71.00296844,  72.3082315 ,  69.84813897,  70.48289213,\n",
       "        76.27748838,  73.46599531,  71.36088425,  70.04712054,\n",
       "        73.22853561,  72.50151376,  71.06525527,  73.3187979 ,\n",
       "        72.47961006,  73.33472877,  73.76900143,  72.49109805,\n",
       "        75.97887131,  71.27331791,  72.77089809,  73.30076899,\n",
       "        70.65655684,  71.705712  ,  71.78346377,  75.48734981,\n",
       "        74.23628818,  74.64221541,  73.12601167,  70.01097261,\n",
       "        70.57538764,  71.25310895,  73.59783483,  72.10590012,\n",
       "        71.99482585,  72.66045228,  71.05974327,  73.908451  ,\n",
       "        70.26305214,  72.9990244 ,  68.42588953,  75.07049732,\n",
       "        71.30933304,  71.95584636,  71.97965889,  68.09831561,\n",
       "        73.13872754,  70.97872225,  72.72376231,  71.25908484,\n",
       "        72.54003915,  72.72952915,  73.87152856,  72.2529441 ,\n",
       "        74.1824408 ,  72.14110058,  69.52965511,  71.27501922,\n",
       "        73.71156304,  73.82737977,  72.83782316,  71.37598085,\n",
       "        73.72143347,  73.51934793,  76.15374515,  71.53391407,\n",
       "        72.46876114,  73.21367074,  73.79382267,  76.05354082,\n",
       "        74.07885545,  72.29562578,  74.06713793,  71.77312275,\n",
       "        74.89980038,  72.80061765,  71.26366168,  75.56783318,\n",
       "        72.38329866,  73.24465318,  73.10679323,  73.03153185,\n",
       "        73.41015307,  72.45945183,  73.11888448,  70.35405661,\n",
       "        73.54542962,  72.70332758,  71.79213536,  70.76586247,\n",
       "        74.48454077,  69.70893612,  71.03376589,  71.27745674,\n",
       "        75.5305137 ,  70.61879386,  73.79908403,  71.55931128,\n",
       "        72.29567185,  71.98758604,  73.72573694,  75.76324543,\n",
       "        73.10317757,  73.63724838,  74.56353089,  72.25596283,\n",
       "        71.28838678,  73.77310342,  73.26566543,  71.40955046,\n",
       "        72.8018264 ,  67.17149574,  70.88237044,  73.3239859 ,\n",
       "        73.45188789,  71.14538579,  70.85552736,  72.1296027 ,\n",
       "        72.06564853,  71.65925678,  73.55281595,  74.51794842,\n",
       "        71.04611424,  73.47965124,  74.46917349,  70.20467778,\n",
       "        72.12993   ,  73.1205294 ,  69.84614001,  74.36120767,\n",
       "        73.63253796,  71.24074966,  72.9652746 ,  70.7201053 ,\n",
       "        73.05541242,  70.31276176,  72.81797207,  71.16360729,\n",
       "        73.70537332,  73.72755433,  74.55948541,  71.27467793,\n",
       "        73.44402722,  72.93923479,  71.78709618,  73.14349458,\n",
       "        71.13783877,  70.91050794,  72.79394521,  73.32019992,\n",
       "        71.29939343,  72.47485908,  72.30983637,  73.52841456,\n",
       "        74.59064727,  72.83208802,  73.78192647,  72.57554602,\n",
       "        73.47199109,  75.90920618,  70.61737902,  73.94330391,\n",
       "        73.58464582,  72.47828533,  71.02157509,  70.30009869,\n",
       "        74.55676956,  71.92877873,  72.37226657,  73.73519402,\n",
       "        72.81334633,  71.62793089,  71.83871125,  72.18355236,\n",
       "        68.85046123,  71.08091866,  71.11456719,  72.24406869,\n",
       "        73.91036362,  77.00381393,  71.08728297,  72.6007624 ,\n",
       "        73.52908502,  71.09177451,  76.29168375,  73.43879483,\n",
       "        72.13977142,  75.86630194,  71.97994719,  71.46516192,\n",
       "        74.46292939,  73.15876263,  76.25572322,  72.39901642,\n",
       "        74.67144479,  72.44066947,  75.15175091,  71.12847767,\n",
       "        72.64697521,  73.50555152,  72.83955975,  73.14838715,\n",
       "        71.99782041,  74.03943996,  73.86179267,  72.3439875 ,\n",
       "        72.61727721,  72.04892229,  71.52458405,  72.09480969,\n",
       "        75.66377633,  71.47503654,  73.61190593,  72.15999552,\n",
       "        75.23720255,  70.79425333,  69.71493073,  71.3218275 ,\n",
       "        74.34716605,  73.38105492,  73.76424431,  75.59689852,\n",
       "        72.7917393 ,  70.42808096,  74.13037383,  72.79862138,\n",
       "        71.06516031,  71.20880097,  71.4817658 ,  70.62490277,\n",
       "        69.88981182,  72.14699604,  72.28641931,  72.19101447,\n",
       "        73.79785447,  69.57516459,  69.95163054,  73.74167493,\n",
       "        71.64059145,  69.95839986,  76.04866146,  72.45377823,\n",
       "        71.43545296,  71.4912747 ,  70.93735691,  71.44555093,\n",
       "        76.01771871,  73.65496407,  74.19404477,  74.31860885,\n",
       "        70.25010878,  72.10539429,  71.89201708,  73.18940041,\n",
       "        70.67994101,  73.88553831,  71.71680312,  75.90479073,\n",
       "        71.27436963,  73.36702494,  72.86916301,  74.97789645,\n",
       "        73.80893892,  71.40007977,  72.15791971,  74.44592592,\n",
       "        71.20662189,  70.47908095,  72.41347167,  73.96384522,\n",
       "        69.59200187,  71.13526975,  71.80322344,  72.8524499 ,\n",
       "        75.43847437,  74.50940457,  72.47790359,  72.76015645,\n",
       "        69.99560365,  75.70776737,  72.91715606,  74.85507794,\n",
       "        73.36326216,  74.3842387 ,  71.72864767,  73.52320199,\n",
       "        72.42319431,  70.09691116,  71.84017245,  73.65529565,\n",
       "        75.1450105 ,  73.47119127,  72.35582657,  72.07176332,\n",
       "        75.1715136 ,  72.02197913,  71.68945847,  73.67995827,\n",
       "        71.96765846,  73.15758126,  74.17154737,  71.20058303,\n",
       "        70.18391114,  71.86785507,  74.88746532,  70.66431948,\n",
       "        74.2947549 ,  72.85699406,  72.78385236,  73.20802962,\n",
       "        75.19941397,  72.70757438,  72.56010461,  72.13232322,\n",
       "        72.8098497 ,  73.99809521,  73.39336456,  71.93790025,\n",
       "        74.49149331,  74.32744255,  74.11857625,  73.84403942,\n",
       "        73.21722906,  73.13309316,  75.07934679,  74.4214446 ,\n",
       "        74.94716949,  72.03572293,  73.09496718,  70.79720658,\n",
       "        70.44931908,  70.0773577 ,  71.29679352,  76.91127077,\n",
       "        73.45102445,  73.60157384,  70.03589672,  71.14542255,\n",
       "        72.56333452,  74.79961547,  74.46268709,  70.85835427,\n",
       "        71.87991404,  72.19817021,  71.90854964,  69.9476507 ,\n",
       "        74.73619304,  70.449765  ,  72.8599839 ,  71.81941727,\n",
       "        73.60423371,  74.09789685,  72.23732642,  70.35376386,\n",
       "        72.2236915 ,  69.29156073,  71.98165678,  72.87667828,\n",
       "        74.45405459,  74.56147386,  75.42324967,  72.92515484,\n",
       "        71.36242975,  75.43640914,  71.09068433,  73.4544803 ,\n",
       "        74.68761535,  73.13235563,  72.05251692,  71.98548741,\n",
       "        71.28179013,  71.73293067,  73.38635657,  73.40203904,\n",
       "        71.63057197,  73.89905812,  70.75081294,  73.79327323,\n",
       "        74.03267112,  70.43659053,  71.97349686,  73.5003918 ,\n",
       "        72.03486832,  71.59427188,  75.23199552,  74.20684887,\n",
       "        74.1810109 ,  71.45599883,  73.51900137,  72.18389216,\n",
       "        74.55085943,  70.56367928,  71.14083582,  74.04915413,\n",
       "        75.75469884,  74.17685337,  73.38796238,  71.4900944 ,\n",
       "        73.46583295,  69.23361772,  73.44764616,  70.87236603,\n",
       "        71.46388351,  72.17810833,  70.95279961,  74.07715218,\n",
       "        74.33931076,  74.23957174,  74.94608116,  71.01492594,\n",
       "        70.76046297,  70.40532798,  68.57878598,  78.09906288,\n",
       "        73.55187939,  72.222917  ,  71.09261169,  69.7970699 ,\n",
       "        73.19745562,  72.56301475,  73.85126677,  77.28592649,\n",
       "        73.1395764 ,  73.15213436,  71.09803112,  70.21559023,\n",
       "        71.6988963 ,  74.37264577,  72.55174592,  73.39339466,\n",
       "        72.72262286,  72.09228456,  72.82992151,  71.97363057,\n",
       "        72.25103389,  74.19085711,  74.57477115,  71.79310048,\n",
       "        73.00741102,  73.77793154,  73.03120802,  72.50815496,\n",
       "        69.48006543,  76.64372233,  75.43193987,  73.22149859,\n",
       "        71.59647248,  71.62801334,  72.1857099 ,  71.07693665,\n",
       "        73.1779394 ,  74.89306372,  73.96310309,  73.41187039,\n",
       "        70.71862365,  70.9075227 ,  73.83802302,  74.25170682,\n",
       "        74.55519662,  70.84733086,  70.4809196 ,  76.63112734,\n",
       "        70.77665695,  73.29500153,  70.54250299,  75.24201078,\n",
       "        69.63937479,  73.39903823,  72.63934145,  72.56270278,\n",
       "        71.49935749,  73.59258306,  74.38184078,  70.67533214,\n",
       "        69.48671056,  72.83996477,  73.18727528,  74.86141376,\n",
       "        72.23971625,  74.41248151,  70.72901161,  72.10301026,\n",
       "        73.17372587,  71.70694621,  74.59336769,  68.57474945,\n",
       "        71.12330006,  73.69129135,  70.09135155,  71.74936427,\n",
       "        71.01779841,  73.8992548 ,  73.94132809,  72.12142697,\n",
       "        74.04037633,  74.40576191,  72.96769783,  73.41032865,\n",
       "        71.62478131,  75.90189938,  69.54582971,  72.92224172,\n",
       "        74.43801864,  74.45475737,  75.72373213,  74.42917012,\n",
       "        75.35172407,  72.8523239 ,  75.45290904,  71.72333761,\n",
       "        72.62122409,  72.11640044,  71.99941128,  72.10786163,\n",
       "        73.77679284,  75.20031881,  72.70581038,  70.85951139,\n",
       "        70.94193678,  71.77223319,  74.69292413,  72.24157655,\n",
       "        74.65068408,  72.99738638,  73.66244853,  71.86943283,\n",
       "        71.92961533,  74.68531413,  72.65251271,  75.60475885,\n",
       "        72.26539462,  74.65710973,  69.30643385,  70.35517644,\n",
       "        75.51161894,  72.61013825,  70.43497124,  72.67860049,\n",
       "        74.21627517,  73.59481911,  72.7483197 ,  76.18802039,\n",
       "        73.97786495,  74.10537219,  75.58524388,  74.44935839,\n",
       "        72.75904475,  74.49553536,  70.35003493,  74.22548162,\n",
       "        73.50155418,  75.72273241,  73.41184389,  72.91341722,\n",
       "        71.79926806,  70.95093624,  72.13362345,  73.74815089,\n",
       "        72.69358976,  74.61345088,  71.67048939,  75.63316121,\n",
       "        71.71745942,  73.17135004,  74.96734118,  71.4685026 ,\n",
       "        72.90902275,  72.25014015,  73.51481214,  72.28697909,\n",
       "        70.0935441 ,  73.77402848,  72.28687192,  71.81953705,\n",
       "        73.80749848,  70.34055952,  71.6519107 ,  73.50700926,\n",
       "        72.57710469,  74.94323351,  75.02133665,  69.22833086,\n",
       "        73.02699756,  74.20549068,  67.87785051,  73.76618723,\n",
       "        69.39038092,  75.08052916,  72.85153083,  71.12232566,\n",
       "        73.66151291,  74.01520533,  74.61691439,  70.86060069,\n",
       "        71.44119601,  71.39012329,  71.24604211,  73.02064763,\n",
       "        73.35003964,  71.7511623 ,  73.89334503,  76.50253561,\n",
       "        71.33129342,  74.88950073,  74.70539822,  70.09061357,\n",
       "        73.11331247,  73.20035176,  71.8482375 ,  71.89534754,\n",
       "        72.53719602,  72.99960876,  74.48623279,  72.72201958,\n",
       "        73.2124975 ,  71.96236381,  70.76524673,  73.22294644,\n",
       "        72.61810525,  73.74205658,  71.70574907,  75.78730641,\n",
       "        72.98830919,  69.96063404,  72.32247692,  72.85528875,\n",
       "        72.61831908,  75.32859279,  72.98067323,  73.53546592,\n",
       "        71.9996204 ,  73.77403539,  73.97713136,  74.58442553,\n",
       "        69.95941961,  71.14908598,  74.40378464,  73.99978737,\n",
       "        73.52491399,  71.37090805,  72.36270229,  73.26897055,\n",
       "        72.12400155,  72.72098318,  73.43250181,  73.86612678,\n",
       "        72.12435043,  74.12340547,  73.76937071,  71.27976235,\n",
       "        71.70424072,  73.70152006,  74.19379494,  71.37408849,\n",
       "        73.6536416 ,  69.31835301,  72.01950713,  72.99816012,\n",
       "        73.13681667,  70.2265753 ,  71.05707942,  74.29696747,\n",
       "        74.28375465,  69.69025418,  76.44154719,  73.3892554 ,\n",
       "        74.32998902,  72.16909026,  70.86472749,  70.1256347 ,\n",
       "        69.12831452,  70.43308907,  71.89696384,  75.20401012,\n",
       "        75.08465374,  68.72716927,  72.40448412,  71.48446608,\n",
       "        71.10345411,  73.20250015,  70.51137656,  72.94251791])"
      ]
     },
     "execution_count": 21,
     "metadata": {},
     "output_type": "execute_result"
    }
   ],
   "source": [
    "def make_sample(n):\n",
    "    sample = weight.rvs(n)\n",
    "    return sample\n",
    "\n",
    "def sample_stat(sample):\n",
    "    return sample.mean()\n",
    "\n",
    "def compute_sampling_distribution(n, iters):\n",
    "    stats = [sample_stat(make_sample(n)) for i in range(iters)]\n",
    "    return numpy.array(stats)\n",
    "\n",
    "sample_means = compute_sampling_distribution(100, 1000)\n",
    "sample_means\n",
    "    "
   ]
  },
  {
   "cell_type": "markdown",
   "metadata": {},
   "source": [
    "We want to estimate the average weight in the population, so the \"sample statistic\" we'll use is the mean:"
   ]
  },
  {
   "cell_type": "code",
   "execution_count": 18,
   "metadata": {},
   "outputs": [],
   "source": [
    "def sample_stat(sample):\n",
    "    return sample.mean()"
   ]
  },
  {
   "cell_type": "markdown",
   "metadata": {},
   "source": [
    "One iteration of \"the experiment\" is to collect a sample of 100 women and compute their average weight.\n",
    "\n",
    "We can simulate running this experiment many times, and collect a list of sample statistics.  The result is a NumPy array."
   ]
  },
  {
   "cell_type": "code",
   "execution_count": 31,
   "metadata": {},
   "outputs": [],
   "source": [
    "def compute_sampling_distribution(n=100, iters=1000):\n",
    "    stats = [sample_stat(make_sample(n)) for i in range(iters)]\n",
    "    return numpy.array(stats)"
   ]
  },
  {
   "cell_type": "markdown",
   "metadata": {},
   "source": [
    "The next line runs the simulation 1000 times and puts the results in\n",
    "`sample_means`:"
   ]
  },
  {
   "cell_type": "code",
   "execution_count": null,
   "metadata": {
    "collapsed": true
   },
   "outputs": [],
   "source": [
    "sample_means = compute_sampling_distribution(n=100, iters=1000)"
   ]
  },
  {
   "cell_type": "markdown",
   "metadata": {},
   "source": [
    "Let's look at the distribution of the sample means.  This distribution shows how much the results vary from one experiment to the next.\n",
    "\n",
    "Remember that this distribution is not the same as the distribution of weight in the population.  This is the distribution of results across repeated imaginary experiments."
   ]
  },
  {
   "cell_type": "code",
   "execution_count": 26,
   "metadata": {},
   "outputs": [
    {
     "data": {
      "image/png": "[encoded data removed]",
      "text/plain": [
       "<matplotlib.figure.Figure at 0x1110893c8>"
      ]
     },
     "metadata": {},
     "output_type": "display_data"
    }
   ],
   "source": [
    "pyplot.hist(sample_means, color=COLOR5, rwidth=0.9, bins = 40)\n",
    "pyplot.xlabel('sample mean (n=100)')\n",
    "pyplot.ylabel('count')\n",
    "None"
   ]
  },
  {
   "cell_type": "markdown",
   "metadata": {},
   "source": [
    "The mean of the sample means is close to the actual population mean, which is nice, but not actually the important part."
   ]
  },
  {
   "cell_type": "code",
   "execution_count": 27,
   "metadata": {},
   "outputs": [
    {
     "data": {
      "text/plain": [
       "72.700790940226256"
      ]
     },
     "execution_count": 27,
     "metadata": {},
     "output_type": "execute_result"
    }
   ],
   "source": [
    "sample_means.mean()"
   ]
  },
  {
   "cell_type": "markdown",
   "metadata": {},
   "source": [
    "#### The standard deviation of the sample means quantifies the variability from one experiment to the next, and reflects the precision of the estimate.\n",
    "\n",
    "# This quantity is called the \"standard error\"."
   ]
  },
  {
   "cell_type": "code",
   "execution_count": 28,
   "metadata": {},
   "outputs": [
    {
     "data": {
      "text/plain": [
       "1.7095610506700989"
      ]
     },
     "execution_count": 28,
     "metadata": {},
     "output_type": "execute_result"
    }
   ],
   "source": [
    "std_err = sample_means.std()\n",
    "std_err"
   ]
  },
  {
   "cell_type": "markdown",
   "metadata": {},
   "source": [
    "We can also use the distribution of sample means to compute a \"90% confidence interval\", which contains 90% of the experimental results:"
   ]
  },
  {
   "cell_type": "code",
   "execution_count": 30,
   "metadata": {},
   "outputs": [
    {
     "data": {
      "text/plain": [
       "array([ 69.96057332,  75.58582662])"
      ]
     },
     "execution_count": 30,
     "metadata": {},
     "output_type": "execute_result"
    }
   ],
   "source": [
    "conf_int = numpy.percentile(sample_means, [5,95])\n",
    "\n",
    "#conf_int = numpy.percentile(sample_means, [5, 95])\n",
    "conf_int"
   ]
  },
  {
   "cell_type": "markdown",
   "metadata": {},
   "source": [
    "Now we'd like to see what happens as we vary the sample size, `n`.  The following function takes `n`, runs 1000 simulated experiments, and summarizes the results."
   ]
  },
  {
   "cell_type": "code",
   "execution_count": 44,
   "metadata": {},
   "outputs": [],
   "source": [
    "def plot_sampling_distribution(n, xlim=None):\n",
    "    \"\"\"Plot the sampling distribution.\n",
    "    \n",
    "    n: sample size\n",
    "    xlim: [xmin, xmax] range for the x axis \n",
    "    \"\"\"\n",
    "    sample_stats = compute_sampling_distribution(n, iters=1000)\n",
    "    se = numpy.std(sample_stats)\n",
    "    cv = numpy.std(sample_stats)/numpy.mean(sample_stats)\n",
    "    ci = numpy.percentile(sample_stats, [5, 95])\n",
    "    \n",
    "    pyplot.hist(sample_stats, color=COLOR2)\n",
    "    pyplot.xlabel('sample statistic')\n",
    "    pyplot.xlim(xlim)\n",
    "    text(0.7, 0.95, 'CI [%0.2f %0.2f]' % tuple(ci))\n",
    "    text(0.03, 0.85, 'SE %0.2f' % se)\n",
    "    text(0.78, 0.9, 'CV %0.2f' % cv)\n",
    "    pyplot.show()\n",
    "    \n",
    "def text(x, y, s):\n",
    "    \"\"\"Plot a string at a given location in axis coordinates.\n",
    "    \n",
    "    x: coordinate\n",
    "    y: coordinate\n",
    "    s: string\n",
    "    \"\"\"\n",
    "    ax = pyplot.gca()\n",
    "    pyplot.text(x, y, s,\n",
    "                horizontalalignment='left',\n",
    "                verticalalignment='top',\n",
    "                transform=ax.transAxes)"
   ]
  },
  {
   "cell_type": "markdown",
   "metadata": {},
   "source": [
    "Here's a test run with `n=100`:"
   ]
  },
  {
   "cell_type": "code",
   "execution_count": 45,
   "metadata": {},
   "outputs": [
    {
     "data": {
      "image/png": "[encoded data removed]",
      "text/plain": [
       "<matplotlib.figure.Figure at 0x111639860>"
      ]
     },
     "metadata": {},
     "output_type": "display_data"
    }
   ],
   "source": [
    "plot_sampling_distribution(100)"
   ]
  },
  {
   "cell_type": "markdown",
   "metadata": {},
   "source": [
    "Now we can use `interact` to run `plot_sampling_distribution` with different values of `n`.  Note: `xlim` sets the limits of the x-axis so the figure doesn't get rescaled as we vary `n`."
   ]
  },
  {
   "cell_type": "code",
   "execution_count": 47,
   "metadata": {},
   "outputs": [
    {
     "data": {
      "application/vnd.jupyter.widget-view+json": {
       "model_id": "794edc8250f745e380891030b67ff5c1"
      }
     },
     "metadata": {},
     "output_type": "display_data"
    }
   ],
   "source": [
    "#def sample_stat(sample):\n",
    "    #return sample.mean()\n",
    "\n",
    "slider = widgets.IntSlider(min=10, max=1000, value=100)\n",
    "interact(plot_sampling_distribution, n=slider, xlim=fixed([55, 95]))\n",
    "None"
   ]
  },
  {
   "cell_type": "markdown",
   "metadata": {},
   "source": [
    "# The above interactive plot demonstrates visually how the CLT playsout in real world. As the sample size increases:\n",
    "> the std error goes down \n",
    ">> sample means start to coverge towards the real population mean\n",
    ">>> coeff of variance (std/mean) also shrinks but not as dramatically as std err\n",
    ">>>> ci or confidence interval shrinks"
   ]
  },
  {
   "cell_type": "markdown",
   "metadata": {},
   "source": [
    "### Other sample statistics\n",
    "\n",
    "This framework works with any other quantity we want to estimate.  By changing `sample_stat`, you can compute the SE and CI for any sample statistic.\n",
    "\n",
    "**Exercise 1**: Fill in `sample_stat` below with any of these statistics:\n",
    "\n",
    "* Standard deviation of the sample.\n",
    "* Coefficient of variation, which is the sample standard deviation divided by the sample standard mean.\n",
    "* Min or Max\n",
    "* Median (which is the 50th percentile)\n",
    "* 10th or 90th percentile.\n",
    "* Interquartile range (IQR), which is the difference between the 75th and 25th percentiles.\n",
    "\n",
    "NumPy array methods you might find useful include `std`, `min`, `max`, and `percentile`.\n",
    "Depending on the results, you might want to adjust `xlim`."
   ]
  },
  {
   "cell_type": "code",
   "execution_count": 49,
   "metadata": {},
   "outputs": [
    {
     "data": {
      "application/vnd.jupyter.widget-view+json": {
       "model_id": "eb7ea132f48a49ababcb9f9319453ddb"
      }
     },
     "metadata": {},
     "output_type": "display_data"
    }
   ],
   "source": [
    "def sample_stat(sample):\n",
    "    #return sample.std()/sample.mean()\n",
    "    return sample.mean()\n",
    "\n",
    "slider = widgets.IntSlider(min=10, max=1000, value=100)\n",
    "interact(plot_sampling_distribution, n=slider, xlim=fixed([0, 100]))\n",
    "None"
   ]
  },
  {
   "cell_type": "markdown",
   "metadata": {},
   "source": [
    "STOP HERE\n",
    "---------\n",
    "\n",
    "We will regroup and discuss before going on."
   ]
  },
  {
   "cell_type": "markdown",
   "metadata": {},
   "source": [
    "Part Two\n",
    "========\n",
    "\n",
    "So far we have shown that if we know the actual distribution of the population, we can compute the sampling distribution for any sample statistic, and from that we can compute SE and CI.\n",
    "\n",
    "But in real life we don't know the actual distribution of the population.  If we did, we wouldn't be doing statistical inference in the first place!\n",
    "\n",
    "In real life, we use the sample to build a model of the population distribution, then use the model to generate the sampling distribution.  A simple and popular way to do that is \"resampling,\" which means we use the sample itself as a model of the population distribution and draw samples from it.\n",
    "\n",
    "Before we go on, I want to collect some of the code from Part One and organize it as a class.  This class represents a framework for computing sampling distributions."
   ]
  },
  {
   "cell_type": "code",
   "execution_count": 68,
   "metadata": {},
   "outputs": [],
   "source": [
    "class Resamlper(object):\n",
    "    def __init__(self, sample, xlim=None):\n",
    "        self.sample = sample\n",
    "        self.n = len(sample)\n",
    "        self.xlim = xlim\n",
    "    def resample(self):\n",
    "        new_sample = numpy.random.choice(self.sample, self.n, replace = True)\n",
    "        return new_sample\n",
    "    def sample_stat(self, sample):\n",
    "        return sample.mean()\n",
    "    def compute_sampling_distribution(self, iters = 1000):\n",
    "        stats = [self.sample_stat(self.resample()) for i in range(iters)]\n",
    "    def plot_sampling_distribution(self):\n",
    "        pyplot.hist(self.compute_sampling_distribution(), color = COLOR2)\n",
    "        se = self.compute_distribution.std()\n",
    "        ci = numpy.percentile(self.compute_distribution(), [5,95])\n",
    "        \n",
    "        pyplot.xlable('sample statistics')\n",
    "        pyplot.xlim(self.xlim)\n",
    "        text(0.03, 0.95, 'CI [%0.2f %0.2f]' %tuple(ci))\n",
    "        text(0.03, 0.95, 'SE [%0.2f]' %se)\n",
    "        pyplot.show()\n",
    "        \n",
    "\n",
    "# class Resampler(object):\n",
    "#     \"\"\"Represents a framework for computing sampling distributions.\"\"\"\n",
    "    \n",
    "#     def __init__(self, sample, xlim=None):\n",
    "#         \"\"\"Stores the actual sample.\"\"\"\n",
    "#         self.sample = sample\n",
    "#         self.n = len(sample)\n",
    "#         self.xlim = xlim\n",
    "        \n",
    "#     def resample(self):\n",
    "#         \"\"\"Generates a new sample by choosing from the original\n",
    "#         sample with replacement.\n",
    "#         \"\"\"\n",
    "#         new_sample = numpy.random.choice(self.sample, self.n, replace=True)\n",
    "#         return new_sample\n",
    "    \n",
    "#     def sample_stat(self, sample):\n",
    "#         \"\"\"Computes a sample statistic using the original sample or a\n",
    "#         simulated sample.\n",
    "#         \"\"\"\n",
    "#         return sample.mean()\n",
    "    \n",
    "#     def compute_sampling_distribution(self, iters=1000):\n",
    "#         \"\"\"Simulates many experiments and collects the resulting sample\n",
    "#         statistics.\n",
    "#         \"\"\"\n",
    "#         stats = [self.sample_stat(self.resample()) for i in range(iters)]\n",
    "#         return numpy.array(stats)\n",
    "    \n",
    "#     def plot_sampling_distribution(self):\n",
    "#         \"\"\"Plots the sampling distribution.\"\"\"\n",
    "#         sample_stats = self.compute_sampling_distribution()\n",
    "#         se = sample_stats.std()\n",
    "#         ci = numpy.percentile(sample_stats, [5, 95])\n",
    "    \n",
    "#         pyplot.hist(sample_stats, color=COLOR2)\n",
    "#         pyplot.xlabel('sample statistic')\n",
    "#         pyplot.xlim(self.xlim)\n",
    "#         text(0.03, 0.95, 'CI [%0.2f %0.2f]' % tuple(ci))\n",
    "#         text(0.03, 0.85, 'SE %0.2f' % se)\n",
    "#         pyplot.show()"
   ]
  },
  {
   "cell_type": "markdown",
   "metadata": {},
   "source": [
    "The following function instantiates a `Resampler` and runs it."
   ]
  },
  {
   "cell_type": "code",
   "execution_count": 71,
   "metadata": {},
   "outputs": [],
   "source": [
    "def interact_func(n, xlim):\n",
    "    sample = weight.rvs(n)\n",
    "    resampler = Resampler(sample, xlim=xlim)\n",
    "    resampler.plot_sampling_distribution()"
   ]
  },
  {
   "cell_type": "markdown",
   "metadata": {},
   "source": [
    "Here's a test run with `n=100`"
   ]
  },
  {
   "cell_type": "code",
   "execution_count": 72,
   "metadata": {},
   "outputs": [
    {
     "data": {
      "image/png": "[encoded data removed]",
      "text/plain": [
       "<matplotlib.figure.Figure at 0x10ea147f0>"
      ]
     },
     "metadata": {},
     "output_type": "display_data"
    }
   ],
   "source": [
    "interact_func(n=100, xlim=[50, 100])"
   ]
  },
  {
   "cell_type": "code",
   "execution_count": 73,
   "metadata": {},
   "outputs": [
    {
     "data": {
      "application/vnd.jupyter.widget-view+json": {
       "model_id": "816dcccbd97d451cbad0069346da20be"
      }
     },
     "metadata": {},
     "output_type": "display_data"
    },
    {
     "data": {
      "text/plain": [
       "<function __main__.greeting>"
      ]
     },
     "execution_count": 73,
     "metadata": {},
     "output_type": "execute_result"
    }
   ],
   "source": [
    "def greeting(text=\"World\"):\n",
    "        print(\"Hello {}\".format(text))\n",
    "interact(greeting, text=\"IPython Widgets\")\n",
    "#greeting()\n"
   ]
  },
  {
   "cell_type": "markdown",
   "metadata": {},
   "source": [
    "Now we can use `interact_func` in an interaction:"
   ]
  },
  {
   "cell_type": "code",
   "execution_count": 74,
   "metadata": {},
   "outputs": [
    {
     "data": {
      "application/vnd.jupyter.widget-view+json": {
       "model_id": "8ee35053fee548beaf6ee0400bd4b6c6"
      }
     },
     "metadata": {},
     "output_type": "display_data"
    }
   ],
   "source": [
    "slider = widgets.IntSlider(min=10, max=1000, value=100)\n",
    "interact(interact_func, n=slider, xlim=fixed([50, 100]))\n",
    "None"
   ]
  },
  {
   "cell_type": "markdown",
   "metadata": {},
   "source": [
    "**Exercise 2**: write a new class called `StdResampler` that inherits from `Resampler` and overrides `sample_stat` so it computes the standard deviation of the resampled data."
   ]
  },
  {
   "cell_type": "code",
   "execution_count": 76,
   "metadata": {},
   "outputs": [],
   "source": [
    "# Solution goes here\n",
    "#sample = weight.rvs(100)\n",
    "class StdResampler(Resampler):\n",
    "    def sample_stats(self, sample):\n",
    "        return sample.std()\n",
    "\n"
   ]
  },
  {
   "cell_type": "markdown",
   "metadata": {},
   "source": [
    "Test your code using the cell below:"
   ]
  },
  {
   "cell_type": "code",
   "execution_count": 77,
   "metadata": {},
   "outputs": [
    {
     "data": {
      "image/png": "[encoded data removed]",
      "text/plain": [
       "<matplotlib.figure.Figure at 0x1114546a0>"
      ]
     },
     "metadata": {},
     "output_type": "display_data"
    }
   ],
   "source": [
    "def interact_func2(n, xlim):\n",
    "    sample = weight.rvs(n)\n",
    "    resampler = StdResampler(sample, xlim=xlim)\n",
    "    resampler.plot_sampling_distribution()\n",
    "    \n",
    "interact_func2(n=100, xlim=[0, 100])"
   ]
  },
  {
   "cell_type": "markdown",
   "metadata": {},
   "source": [
    "When your `StdResampler` is working, you should be able to interact with it:"
   ]
  },
  {
   "cell_type": "code",
   "execution_count": 78,
   "metadata": {},
   "outputs": [
    {
     "data": {
      "application/vnd.jupyter.widget-view+json": {
       "model_id": "a38ec1b54e8641bfa900f87a19162b34"
      }
     },
     "metadata": {},
     "output_type": "display_data"
    }
   ],
   "source": [
    "slider = widgets.IntSlider(min=10, max=1000, value=100)\n",
    "interact(interact_func2, n=slider, xlim=fixed([0, 100]))\n",
    "None"
   ]
  },
  {
   "cell_type": "markdown",
   "metadata": {},
   "source": [
    "STOP HERE\n",
    "---------\n",
    "\n",
    "We will regroup and discuss before going on."
   ]
  },
  {
   "cell_type": "markdown",
   "metadata": {},
   "source": [
    "Part Three\n",
    "==========\n",
    "\n",
    "We can extend this framework to compute SE and CI for a difference in means.\n",
    "\n",
    "For example, men are heavier than women on average.  Here's the women's distribution again (from BRFSS data):"
   ]
  },
  {
   "cell_type": "code",
   "execution_count": 79,
   "metadata": {},
   "outputs": [
    {
     "data": {
      "text/plain": [
       "(72.697645732966876, 16.944043048498038)"
      ]
     },
     "execution_count": 79,
     "metadata": {},
     "output_type": "execute_result"
    }
   ],
   "source": [
    "female_weight = scipy.stats.lognorm(0.23, 0, 70.8)\n",
    "female_weight.mean(), female_weight.std()"
   ]
  },
  {
   "cell_type": "markdown",
   "metadata": {},
   "source": [
    "And here's the men's distribution:"
   ]
  },
  {
   "cell_type": "code",
   "execution_count": 83,
   "metadata": {},
   "outputs": [
    {
     "data": {
      "text/plain": [
       "(89.063576984335782, 17.992335889366288)"
      ]
     },
     "execution_count": 83,
     "metadata": {},
     "output_type": "execute_result"
    }
   ],
   "source": [
    "male_weight = scipy.stats.lognorm(0.20, 0, 87.3)\n",
    "male_weight.mean(), male_weight.std()"
   ]
  },
  {
   "cell_type": "markdown",
   "metadata": {},
   "source": [
    "I'll simulate a sample of 100 men and 100 women:"
   ]
  },
  {
   "cell_type": "code",
   "execution_count": 84,
   "metadata": {},
   "outputs": [],
   "source": [
    "female_sample = female_weight.rvs(100)\n",
    "male_sample = male_weight.rvs(100)"
   ]
  },
  {
   "cell_type": "markdown",
   "metadata": {},
   "source": [
    "The difference in means should be about 17 kg, but will vary from one random sample to the next:"
   ]
  },
  {
   "cell_type": "code",
   "execution_count": 85,
   "metadata": {},
   "outputs": [
    {
     "data": {
      "text/plain": [
       "17.002698801463069"
      ]
     },
     "execution_count": 85,
     "metadata": {},
     "output_type": "execute_result"
    }
   ],
   "source": [
    "male_sample.mean() - female_sample.mean()"
   ]
  },
  {
   "cell_type": "markdown",
   "metadata": {},
   "source": [
    "Here's the function that computes Cohen's effect size again:"
   ]
  },
  {
   "cell_type": "code",
   "execution_count": 86,
   "metadata": {},
   "outputs": [],
   "source": [
    "def CohenEffectSize(group1, group2):\n",
    "    \"\"\"Compute Cohen's d.\n",
    "\n",
    "    group1: Series or NumPy array\n",
    "    group2: Series or NumPy array\n",
    "\n",
    "    returns: float\n",
    "    \"\"\"\n",
    "    diff = group1.mean() - group2.mean()\n",
    "\n",
    "    n1, n2 = len(group1), len(group2)\n",
    "    var1 = group1.var()\n",
    "    var2 = group2.var()\n",
    "\n",
    "    pooled_var = (n1 * var1 + n2 * var2) / (n1 + n2)\n",
    "    d = diff / numpy.sqrt(pooled_var)\n",
    "    return d"
   ]
  },
  {
   "cell_type": "markdown",
   "metadata": {},
   "source": [
    "The difference in weight between men and women is about 1 standard deviation:"
   ]
  },
  {
   "cell_type": "code",
   "execution_count": 87,
   "metadata": {},
   "outputs": [
    {
     "data": {
      "text/plain": [
       "0.98349023337858987"
      ]
     },
     "execution_count": 87,
     "metadata": {},
     "output_type": "execute_result"
    }
   ],
   "source": [
    "CohenEffectSize(male_sample, female_sample)"
   ]
  },
  {
   "cell_type": "markdown",
   "metadata": {},
   "source": [
    "Now we can write a version of the `Resampler` that computes the sampling distribution of $d$."
   ]
  },
  {
   "cell_type": "code",
   "execution_count": 88,
   "metadata": {},
   "outputs": [],
   "source": [
    "class CohenResampler(Resampler):\n",
    "    def __init__(self, group1, group2, xlim=None):\n",
    "        self.group1 = group1\n",
    "        self.group2 = group2\n",
    "        self.xlim = xlim\n",
    "        \n",
    "    def resample(self):\n",
    "        n, m = len(self.group1), len(self.group2)\n",
    "        group1 = numpy.random.choice(self.group1, n, replace=True)\n",
    "        group2 = numpy.random.choice(self.group2, m, replace=True)\n",
    "        return group1, group2\n",
    "    \n",
    "    def sample_stat(self, groups):\n",
    "        group1, group2 = groups\n",
    "        return CohenEffectSize(group1, group2)"
   ]
  },
  {
   "cell_type": "markdown",
   "metadata": {},
   "source": [
    "Now we can instantiate a `CohenResampler` and plot the sampling distribution."
   ]
  },
  {
   "cell_type": "code",
   "execution_count": 89,
   "metadata": {},
   "outputs": [
    {
     "data": {
      "image/png": "[encoded data removed]",
      "text/plain": [
       "<matplotlib.figure.Figure at 0x11186ff98>"
      ]
     },
     "metadata": {},
     "output_type": "display_data"
    }
   ],
   "source": [
    "resampler = CohenResampler(male_sample, female_sample)\n",
    "resampler.plot_sampling_distribution()"
   ]
  },
  {
   "cell_type": "markdown",
   "metadata": {},
   "source": [
    "This example demonstrates an advantage of the computational framework over mathematical analysis.  Statistics like Cohen's $d$, which is the ratio of other statistics, are relatively difficult to analyze.  But with a computational approach, all sample statistics are equally \"easy\".\n",
    "\n",
    "One note on vocabulary: what I am calling \"resampling\" here is a specific kind of resampling called \"bootstrapping\".  Other techniques that are also considering resampling include permutation tests, which we'll see in the next section, and \"jackknife\" resampling.  You can read more at <http://en.wikipedia.org/wiki/Resampling_(statistics)>."
   ]
  },
  {
   "cell_type": "markdown",
   "metadata": {
    "collapsed": true
   },
   "source": [
    "# Inheritance\n",
    "\n",
    "Classes can inherit functionality of other classes. If an object is created using a class that inherits from a superclass, the object will contain the methods of both the class and the superclass. The same holds true for variables of both the superclass and the class that inherits from the super class."
   ]
  },
  {
   "cell_type": "code",
   "execution_count": 63,
   "metadata": {},
   "outputs": [],
   "source": [
    "class User:\n",
    " \n",
    "    def __init__(self, name):\n",
    "        self.name = name\n",
    " \n",
    "    def printName(self):\n",
    "        print(\"Name  = {}\" .format(self.name))"
   ]
  },
  {
   "cell_type": "code",
   "execution_count": 65,
   "metadata": {},
   "outputs": [
    {
     "name": "stdout",
     "output_type": "stream",
     "text": [
      "Name  = brian\n"
     ]
    }
   ],
   "source": [
    "brian = User(\"brian\")\n",
    "brian.printName()"
   ]
  },
  {
   "cell_type": "code",
   "execution_count": 66,
   "metadata": {},
   "outputs": [],
   "source": [
    "class Programmer(User):\n",
    "    def __init__(self, name):\n",
    "        self.name = name\n",
    " \n",
    "    def doPython(self):\n",
    "        print (\"Programming Python\")"
   ]
  },
  {
   "cell_type": "code",
   "execution_count": 67,
   "metadata": {},
   "outputs": [
    {
     "name": "stdout",
     "output_type": "stream",
     "text": [
      "Name  = brian\n",
      "Name  = Diana\n",
      "Programming Python\n"
     ]
    }
   ],
   "source": [
    "brian = User(\"brian\")\n",
    "brian.printName()\n",
    " \n",
    "diana = Programmer(\"Diana\")\n",
    "diana.printName()\n",
    "diana.doPython()"
   ]
  },
  {
   "cell_type": "code",
   "execution_count": null,
   "metadata": {},
   "outputs": [],
   "source": []
  }
 ],
 "metadata": {
  "kernelspec": {
   "display_name": "Python 3",
   "language": "python",
   "name": "python3"
  },
  "language_info": {
   "codemirror_mode": {
    "name": "ipython",
    "version": 3
   },
   "file_extension": ".py",
   "mimetype": "text/x-python",
   "name": "python",
   "nbconvert_exporter": "python",
   "pygments_lexer": "ipython3",
   "version": "3.6.3"
  }
 },
 "nbformat": 4,
 "nbformat_minor": 1
}
